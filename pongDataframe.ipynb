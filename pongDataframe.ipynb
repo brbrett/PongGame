{
 "cells": [
  {
   "cell_type": "code",
   "execution_count": 9,
   "id": "initial_id",
   "metadata": {
    "collapsed": true,
    "ExecuteTime": {
     "end_time": "2024-03-21T01:44:56.081821Z",
     "start_time": "2024-03-21T01:44:56.060319Z"
    }
   },
   "outputs": [
    {
     "data": {
      "text/plain": "      x    y  vx  vy  Paddle.y\n0  1180  300   1  -1       300\n1  1180  300  -1  -1       300\n2  1180  300   1  -1       300\n3  1180  300  -1  -1       300\n4  1180  300   1  -1       300",
      "text/html": "<div>\n<style scoped>\n    .dataframe tbody tr th:only-of-type {\n        vertical-align: middle;\n    }\n\n    .dataframe tbody tr th {\n        vertical-align: top;\n    }\n\n    .dataframe thead th {\n        text-align: right;\n    }\n</style>\n<table border=\"1\" class=\"dataframe\">\n  <thead>\n    <tr style=\"text-align: right;\">\n      <th></th>\n      <th>x</th>\n      <th>y</th>\n      <th>vx</th>\n      <th>vy</th>\n      <th>Paddle.y</th>\n    </tr>\n  </thead>\n  <tbody>\n    <tr>\n      <th>0</th>\n      <td>1180</td>\n      <td>300</td>\n      <td>1</td>\n      <td>-1</td>\n      <td>300</td>\n    </tr>\n    <tr>\n      <th>1</th>\n      <td>1180</td>\n      <td>300</td>\n      <td>-1</td>\n      <td>-1</td>\n      <td>300</td>\n    </tr>\n    <tr>\n      <th>2</th>\n      <td>1180</td>\n      <td>300</td>\n      <td>1</td>\n      <td>-1</td>\n      <td>300</td>\n    </tr>\n    <tr>\n      <th>3</th>\n      <td>1180</td>\n      <td>300</td>\n      <td>-1</td>\n      <td>-1</td>\n      <td>300</td>\n    </tr>\n    <tr>\n      <th>4</th>\n      <td>1180</td>\n      <td>300</td>\n      <td>1</td>\n      <td>-1</td>\n      <td>300</td>\n    </tr>\n  </tbody>\n</table>\n</div>"
     },
     "execution_count": 9,
     "metadata": {},
     "output_type": "execute_result"
    }
   ],
   "source": [
    "import pandas as pd\n",
    "pong = pd.read_csv(\"game.csv\")\n",
    "pong.head()"
   ]
  },
  {
   "cell_type": "code",
   "outputs": [
    {
     "data": {
      "text/plain": "                  x             y            vx            vy      Paddle.y\ncount  26406.000000  26406.000000  26406.000000  26406.000000  26406.000000\nmean     643.481595    296.098197      0.017572      0.000757    277.419753\nstd      356.425696    150.454885      0.999865      1.000019    101.605801\nmin       40.000000     40.000000     -1.000000     -1.000000     71.000000\n25%      339.000000    163.000000     -1.000000     -1.000000    181.000000\n50%      638.000000    295.000000      1.000000      1.000000    286.000000\n75%      938.000000    428.000000      1.000000      1.000000    367.000000\nmax     1642.000000    560.000000      1.000000      1.000000    529.000000",
      "text/html": "<div>\n<style scoped>\n    .dataframe tbody tr th:only-of-type {\n        vertical-align: middle;\n    }\n\n    .dataframe tbody tr th {\n        vertical-align: top;\n    }\n\n    .dataframe thead th {\n        text-align: right;\n    }\n</style>\n<table border=\"1\" class=\"dataframe\">\n  <thead>\n    <tr style=\"text-align: right;\">\n      <th></th>\n      <th>x</th>\n      <th>y</th>\n      <th>vx</th>\n      <th>vy</th>\n      <th>Paddle.y</th>\n    </tr>\n  </thead>\n  <tbody>\n    <tr>\n      <th>count</th>\n      <td>26406.000000</td>\n      <td>26406.000000</td>\n      <td>26406.000000</td>\n      <td>26406.000000</td>\n      <td>26406.000000</td>\n    </tr>\n    <tr>\n      <th>mean</th>\n      <td>643.481595</td>\n      <td>296.098197</td>\n      <td>0.017572</td>\n      <td>0.000757</td>\n      <td>277.419753</td>\n    </tr>\n    <tr>\n      <th>std</th>\n      <td>356.425696</td>\n      <td>150.454885</td>\n      <td>0.999865</td>\n      <td>1.000019</td>\n      <td>101.605801</td>\n    </tr>\n    <tr>\n      <th>min</th>\n      <td>40.000000</td>\n      <td>40.000000</td>\n      <td>-1.000000</td>\n      <td>-1.000000</td>\n      <td>71.000000</td>\n    </tr>\n    <tr>\n      <th>25%</th>\n      <td>339.000000</td>\n      <td>163.000000</td>\n      <td>-1.000000</td>\n      <td>-1.000000</td>\n      <td>181.000000</td>\n    </tr>\n    <tr>\n      <th>50%</th>\n      <td>638.000000</td>\n      <td>295.000000</td>\n      <td>1.000000</td>\n      <td>1.000000</td>\n      <td>286.000000</td>\n    </tr>\n    <tr>\n      <th>75%</th>\n      <td>938.000000</td>\n      <td>428.000000</td>\n      <td>1.000000</td>\n      <td>1.000000</td>\n      <td>367.000000</td>\n    </tr>\n    <tr>\n      <th>max</th>\n      <td>1642.000000</td>\n      <td>560.000000</td>\n      <td>1.000000</td>\n      <td>1.000000</td>\n      <td>529.000000</td>\n    </tr>\n  </tbody>\n</table>\n</div>"
     },
     "execution_count": 6,
     "metadata": {},
     "output_type": "execute_result"
    }
   ],
   "source": [
    "pong.describe()"
   ],
   "metadata": {
    "collapsed": false,
    "ExecuteTime": {
     "end_time": "2024-03-21T01:18:45.362481Z",
     "start_time": "2024-03-21T01:18:45.345726Z"
    }
   },
   "id": "e7f987c1f53a8084",
   "execution_count": 6
  },
  {
   "cell_type": "code",
   "outputs": [],
   "source": [
    "pong = pong.drop_duplicates()"
   ],
   "metadata": {
    "collapsed": false,
    "ExecuteTime": {
     "end_time": "2024-03-21T01:18:45.370969Z",
     "start_time": "2024-03-21T01:18:45.363485Z"
    }
   },
   "id": "5a0398c6e5b049d5",
   "execution_count": 7
  },
  {
   "cell_type": "code",
   "outputs": [
    {
     "data": {
      "text/plain": "                  x             y            vx            vy      Paddle.y\ncount  25561.000000  25561.000000  25561.000000  25561.000000  25561.000000\nmean     623.722037    298.551817      0.018114     -0.008881    278.766558\nstd      344.015992    150.639694      0.999855      0.999980    101.107597\nmin       40.000000     40.000000     -1.000000     -1.000000     71.000000\n25%      329.000000    167.000000     -1.000000     -1.000000    181.000000\n50%      619.000000    297.000000      1.000000     -1.000000    288.000000\n75%      909.000000    430.000000      1.000000      1.000000    367.000000\nmax     1642.000000    560.000000      1.000000      1.000000    529.000000",
      "text/html": "<div>\n<style scoped>\n    .dataframe tbody tr th:only-of-type {\n        vertical-align: middle;\n    }\n\n    .dataframe tbody tr th {\n        vertical-align: top;\n    }\n\n    .dataframe thead th {\n        text-align: right;\n    }\n</style>\n<table border=\"1\" class=\"dataframe\">\n  <thead>\n    <tr style=\"text-align: right;\">\n      <th></th>\n      <th>x</th>\n      <th>y</th>\n      <th>vx</th>\n      <th>vy</th>\n      <th>Paddle.y</th>\n    </tr>\n  </thead>\n  <tbody>\n    <tr>\n      <th>count</th>\n      <td>25561.000000</td>\n      <td>25561.000000</td>\n      <td>25561.000000</td>\n      <td>25561.000000</td>\n      <td>25561.000000</td>\n    </tr>\n    <tr>\n      <th>mean</th>\n      <td>623.722037</td>\n      <td>298.551817</td>\n      <td>0.018114</td>\n      <td>-0.008881</td>\n      <td>278.766558</td>\n    </tr>\n    <tr>\n      <th>std</th>\n      <td>344.015992</td>\n      <td>150.639694</td>\n      <td>0.999855</td>\n      <td>0.999980</td>\n      <td>101.107597</td>\n    </tr>\n    <tr>\n      <th>min</th>\n      <td>40.000000</td>\n      <td>40.000000</td>\n      <td>-1.000000</td>\n      <td>-1.000000</td>\n      <td>71.000000</td>\n    </tr>\n    <tr>\n      <th>25%</th>\n      <td>329.000000</td>\n      <td>167.000000</td>\n      <td>-1.000000</td>\n      <td>-1.000000</td>\n      <td>181.000000</td>\n    </tr>\n    <tr>\n      <th>50%</th>\n      <td>619.000000</td>\n      <td>297.000000</td>\n      <td>1.000000</td>\n      <td>-1.000000</td>\n      <td>288.000000</td>\n    </tr>\n    <tr>\n      <th>75%</th>\n      <td>909.000000</td>\n      <td>430.000000</td>\n      <td>1.000000</td>\n      <td>1.000000</td>\n      <td>367.000000</td>\n    </tr>\n    <tr>\n      <th>max</th>\n      <td>1642.000000</td>\n      <td>560.000000</td>\n      <td>1.000000</td>\n      <td>1.000000</td>\n      <td>529.000000</td>\n    </tr>\n  </tbody>\n</table>\n</div>"
     },
     "execution_count": 8,
     "metadata": {},
     "output_type": "execute_result"
    }
   ],
   "source": [
    "pong.describe()"
   ],
   "metadata": {
    "collapsed": false,
    "ExecuteTime": {
     "end_time": "2024-03-21T01:18:45.388710Z",
     "start_time": "2024-03-21T01:18:45.372001Z"
    }
   },
   "id": "50015ba41d6fbfc5",
   "execution_count": 8
  }
 ],
 "metadata": {
  "kernelspec": {
   "display_name": "Python 3",
   "language": "python",
   "name": "python3"
  },
  "language_info": {
   "codemirror_mode": {
    "name": "ipython",
    "version": 2
   },
   "file_extension": ".py",
   "mimetype": "text/x-python",
   "name": "python",
   "nbconvert_exporter": "python",
   "pygments_lexer": "ipython2",
   "version": "2.7.6"
  }
 },
 "nbformat": 4,
 "nbformat_minor": 5
}
